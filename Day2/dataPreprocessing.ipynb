{
 "cells": [
  {
   "cell_type": "markdown",
   "metadata": {},
   "source": [
    "Sample Datasets Preperation"
   ]
  },
  {
   "cell_type": "code",
   "execution_count": 5,
   "metadata": {},
   "outputs": [
    {
     "data": {
      "text/plain": [
       "(4, 3)"
      ]
     },
     "execution_count": 5,
     "metadata": {},
     "output_type": "execute_result"
    }
   ],
   "source": [
    "import numpy as np\n",
    "from sklearn import preprocessing\n",
    "\n",
    "sampleData = np.array([[1.6, 2.3, -5.7],\n",
    "                       [-5.6, 5.4, 3.2],\n",
    "                       [4.2, -3.3, -5.2],\n",
    "                       [1.4, 2.7, 3.5]])\n",
    "\n",
    "sampleData.shape"
   ]
  },
  {
   "cell_type": "markdown",
   "metadata": {},
   "source": [
    "First Technique (Binarization)"
   ]
  },
  {
   "cell_type": "code",
   "execution_count": 10,
   "metadata": {},
   "outputs": [
    {
     "data": {
      "text/plain": [
       "array([[1., 1., 0.],\n",
       "       [0., 1., 1.],\n",
       "       [1., 0., 0.],\n",
       "       [1., 1., 1.]])"
      ]
     },
     "execution_count": 10,
     "metadata": {},
     "output_type": "execute_result"
    }
   ],
   "source": [
    "preprocessor = preprocessing.Binarizer(threshold=0.5)\n",
    "binarizedData = preprocessor.transform(sampleData)\n",
    "binarizedData"
   ]
  },
  {
   "cell_type": "markdown",
   "metadata": {},
   "source": [
    "Second Techique (Scalling)"
   ]
  },
  {
   "cell_type": "code",
   "execution_count": 16,
   "metadata": {},
   "outputs": [
    {
     "data": {
      "text/plain": [
       "array([[0.73469388, 0.64367816, 0.        ],\n",
       "       [0.        , 1.        , 0.9673913 ],\n",
       "       [1.        , 0.        , 0.05434783],\n",
       "       [0.71428571, 0.68965517, 1.        ]])"
      ]
     },
     "execution_count": 16,
     "metadata": {},
     "output_type": "execute_result"
    }
   ],
   "source": [
    "preprocessor = preprocessing.MinMaxScaler(feature_range=(0, 1))\n",
    "scaledData= preprocessor.fit_transform(sampleData)\n",
    "scaledData"
   ]
  },
  {
   "cell_type": "markdown",
   "metadata": {},
   "source": [
    "Third Technique Pt1 (L1: Least Absolut Deviation)"
   ]
  },
  {
   "cell_type": "code",
   "execution_count": 18,
   "metadata": {},
   "outputs": [
    {
     "data": {
      "text/plain": [
       "array([[ 1.6,  2.3, -5.7],\n",
       "       [-5.6,  5.4,  3.2],\n",
       "       [ 4.2, -3.3, -5.2],\n",
       "       [ 1.4,  2.7,  3.5]])"
      ]
     },
     "execution_count": 18,
     "metadata": {},
     "output_type": "execute_result"
    }
   ],
   "source": [
    "sampleData"
   ]
  },
  {
   "cell_type": "code",
   "execution_count": 24,
   "metadata": {},
   "outputs": [
    {
     "data": {
      "text/plain": [
       "array([[ 0.16666667,  0.23958333, -0.59375   ],\n",
       "       [-0.3943662 ,  0.38028169,  0.22535211],\n",
       "       [ 0.33070866, -0.25984252, -0.40944882],\n",
       "       [ 0.18421053,  0.35526316,  0.46052632]])"
      ]
     },
     "execution_count": 24,
     "metadata": {},
     "output_type": "execute_result"
    }
   ],
   "source": [
    "L1Normalised = preprocessing.normalize(sampleData, norm='l1')\n",
    "L1Normalised"
   ]
  },
  {
   "cell_type": "markdown",
   "metadata": {},
   "source": [
    "Third Technique Pt1 (L2: Least Square)"
   ]
  },
  {
   "cell_type": "code",
   "execution_count": 26,
   "metadata": {},
   "outputs": [
    {
     "data": {
      "text/plain": [
       "array([[ 1.6,  2.3, -5.7],\n",
       "       [-5.6,  5.4,  3.2],\n",
       "       [ 4.2, -3.3, -5.2],\n",
       "       [ 1.4,  2.7,  3.5]])"
      ]
     },
     "execution_count": 26,
     "metadata": {},
     "output_type": "execute_result"
    }
   ],
   "source": [
    "sampleData"
   ]
  },
  {
   "cell_type": "code",
   "execution_count": 27,
   "metadata": {},
   "outputs": [
    {
     "data": {
      "text/plain": [
       "array([[ 0.25191384,  0.36212615, -0.89744307],\n",
       "       [-0.66572385,  0.641948  ,  0.38041363],\n",
       "       [ 0.56341589, -0.44268391, -0.69756253],\n",
       "       [ 0.30193176,  0.58229698,  0.75482941]])"
      ]
     },
     "execution_count": 27,
     "metadata": {},
     "output_type": "execute_result"
    }
   ],
   "source": [
    "L2Normalised = preprocessing.normalize(sampleData, norm='l2')\n",
    "L2Normalised"
   ]
  }
 ],
 "metadata": {
  "kernelspec": {
   "display_name": "Python 3",
   "language": "python",
   "name": "python3"
  },
  "language_info": {
   "codemirror_mode": {
    "name": "ipython",
    "version": 3
   },
   "file_extension": ".py",
   "mimetype": "text/x-python",
   "name": "python",
   "nbconvert_exporter": "python",
   "pygments_lexer": "ipython3",
   "version": "3.12.5"
  }
 },
 "nbformat": 4,
 "nbformat_minor": 2
}

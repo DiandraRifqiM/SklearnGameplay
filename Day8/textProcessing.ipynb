{
 "cells": [
  {
   "cell_type": "markdown",
   "metadata": {},
   "source": [
    "Bag of Words"
   ]
  },
  {
   "cell_type": "markdown",
   "metadata": {},
   "source": [
    "Sample Dataset"
   ]
  },
  {
   "cell_type": "code",
   "execution_count": 21,
   "metadata": {},
   "outputs": [
    {
     "data": {
      "text/plain": [
       "['Windows has been around since the mid-1980s',\n",
       " 'Windows OS include the windows kernel',\n",
       " 'Windows is the most used OS in around the world for desktop & laptop']"
      ]
     },
     "execution_count": 21,
     "metadata": {},
     "output_type": "execute_result"
    }
   ],
   "source": [
    "corpus = [\n",
    "    \"Windows has been around since the mid-1980s\",\n",
    "    \"Windows OS include the windows kernel\",\n",
    "    \"Windows is the most used OS in around the world for desktop & laptop\"\n",
    "]\n",
    "\n",
    "corpus"
   ]
  },
  {
   "cell_type": "code",
   "execution_count": 22,
   "metadata": {},
   "outputs": [
    {
     "data": {
      "text/plain": [
       "matrix([[1, 1, 1, 0, 0, 1, 0, 0, 0, 0, 0, 1, 0, 0, 1, 1, 0, 1, 0],\n",
       "        [0, 0, 0, 0, 0, 0, 0, 1, 0, 1, 0, 0, 0, 1, 0, 1, 0, 2, 0],\n",
       "        [0, 1, 0, 1, 1, 0, 1, 0, 1, 0, 1, 0, 1, 1, 0, 2, 1, 1, 1]])"
      ]
     },
     "execution_count": 22,
     "metadata": {},
     "output_type": "execute_result"
    }
   ],
   "source": [
    "from sklearn.feature_extraction.text import CountVectorizer\n",
    "\n",
    "BoF = CountVectorizer()\n",
    "vecotrized_A = BoF.fit_transform(corpus).todense() \n",
    "vecotrized_A"
   ]
  },
  {
   "cell_type": "code",
   "execution_count": 23,
   "metadata": {},
   "outputs": [
    {
     "data": {
      "text/plain": [
       "array(['1980s', 'around', 'been', 'desktop', 'for', 'has', 'in',\n",
       "       'include', 'is', 'kernel', 'laptop', 'mid', 'most', 'os', 'since',\n",
       "       'the', 'used', 'windows', 'world'], dtype=object)"
      ]
     },
     "execution_count": 23,
     "metadata": {},
     "output_type": "execute_result"
    }
   ],
   "source": [
    "BoF.get_feature_names_out()"
   ]
  },
  {
   "cell_type": "markdown",
   "metadata": {},
   "source": [
    "Euclidean Distance to Calculate Distance Between Document"
   ]
  },
  {
   "cell_type": "code",
   "execution_count": 28,
   "metadata": {},
   "outputs": [
    {
     "name": "stdout",
     "output_type": "stream",
     "text": [
      "Document distance 1 & 2: 3.1622776601683795\n",
      "Document distance 1 & 3: 3.872983346207417\n",
      "Document distance 2 & 3: 3.605551275463989\n"
     ]
    }
   ],
   "source": [
    "from sklearn.metrics.pairwise import euclidean_distances\n",
    "import numpy as np\n",
    "\n",
    "\n",
    "vecotrized_A = np.asarray(vecotrized_A)\n",
    "for i in range(len(vecotrized_A)):\n",
    "    for j in range(i, len(vecotrized_A)):\n",
    "        if i == j:\n",
    "            continue\n",
    "        distance = euclidean_distances([vecotrized_A[i]], [vecotrized_A[j]])[0][0]\n",
    "        print(f\"Document distance {i+1} & {j+1}: {distance}\")"
   ]
  },
  {
   "cell_type": "markdown",
   "metadata": {},
   "source": [
    "Stop Word Filtering"
   ]
  },
  {
   "cell_type": "code",
   "execution_count": 30,
   "metadata": {},
   "outputs": [
    {
     "data": {
      "text/plain": [
       "matrix([[1, 0, 0, 0, 0, 1, 0, 0, 1, 0],\n",
       "        [0, 0, 1, 1, 0, 0, 1, 0, 2, 0],\n",
       "        [0, 1, 0, 0, 1, 0, 1, 1, 1, 1]])"
      ]
     },
     "execution_count": 30,
     "metadata": {},
     "output_type": "execute_result"
    }
   ],
   "source": [
    "from sklearn.feature_extraction.text import CountVectorizer\n",
    "SwF = CountVectorizer(stop_words=\"english\")\n",
    "vecotrized_B = SwF.fit_transform(corpus).todense()\n",
    "vecotrized_B"
   ]
  },
  {
   "cell_type": "code",
   "execution_count": 31,
   "metadata": {},
   "outputs": [
    {
     "data": {
      "text/plain": [
       "array(['1980s', 'desktop', 'include', 'kernel', 'laptop', 'mid', 'os',\n",
       "       'used', 'windows', 'world'], dtype=object)"
      ]
     },
     "execution_count": 31,
     "metadata": {},
     "output_type": "execute_result"
    }
   ],
   "source": [
    "SwF.get_feature_names_out()"
   ]
  }
 ],
 "metadata": {
  "kernelspec": {
   "display_name": "Python 3",
   "language": "python",
   "name": "python3"
  },
  "language_info": {
   "codemirror_mode": {
    "name": "ipython",
    "version": 3
   },
   "file_extension": ".py",
   "mimetype": "text/x-python",
   "name": "python",
   "nbconvert_exporter": "python",
   "pygments_lexer": "ipython3",
   "version": "3.12.5"
  }
 },
 "nbformat": 4,
 "nbformat_minor": 2
}
